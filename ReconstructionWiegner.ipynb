{
 "cells": [
  {
   "cell_type": "markdown",
   "metadata": {},
   "source": [
    "# Import stuff, set default parameters"
   ]
  },
  {
   "cell_type": "code",
   "execution_count": 1,
   "metadata": {},
   "outputs": [
    {
     "name": "stdout",
     "output_type": "stream",
     "text": [
      "python version: 3.6.9\n",
      "number of CPU's: 8\n"
     ]
    }
   ],
   "source": [
    "%load_ext autoreload\n",
    "%autoreload 2\n",
    "\n",
    "# import python stuff\n",
    "import matplotlib.pyplot as plt\n",
    "import numpy as np\n",
    "# import qutip\n",
    "import scipy\n",
    "import scipy.special as spe\n",
    "from scipy import optimize\n",
    "from qutip import *\n",
    "import time\n",
    "import multiprocessing as mp\n",
    "from platform import python_version\n",
    "from iminuit import Minuit\n",
    "\n",
    "# import my functions\n",
    "from functionsSqueeze import *\n",
    "from functions_SpinPhonon import *\n",
    "\n",
    "# import existing Paula funcitons\n",
    "from PyModules.analyse_eios import eios_sb\n",
    "from PyModules.analyse_eios import eios_analyse\n",
    "from PyModules.analyse_eios import eios_data\n",
    "\n",
    "print(\"python version:\", python_version())\n",
    "print(\"number of CPU's:\", mp.cpu_count())"
   ]
  },
  {
   "cell_type": "markdown",
   "metadata": {},
   "source": [
    "Preparation:\n",
    "* prepare state in groundstate\n",
    "* check/determine the displacement that will be used later ($|\\alpha|$ is clear, but how do you get the angle in the complex plane?)\n",
    "\n",
    "get Wiegner function:\n",
    "* displace the state by $\\alpha$ from above\n",
    "* do a sideband flop (same procedure like when you want to get the fock state distribution)<br/>\n",
    "    => get the displaced fock state dist. $|n, \\alpha>$\n",
    "* repeat the steps above for all $\\alpha$ where you want to know the wiegner function (for all $\\alpha$ imaginable!!!)\n",
    "* do some calculation to get wiegner function\n",
    "* do some more calculatin to get the density matrix (if I have $|n, \\alpha>$ for enough $\\alpha$'s)"
   ]
  },
  {
   "cell_type": "code",
   "execution_count": null,
   "metadata": {},
   "outputs": [],
   "source": []
  },
  {
   "cell_type": "code",
   "execution_count": null,
   "metadata": {},
   "outputs": [],
   "source": []
  },
  {
   "cell_type": "code",
   "execution_count": null,
   "metadata": {},
   "outputs": [],
   "source": []
  },
  {
   "cell_type": "code",
   "execution_count": null,
   "metadata": {},
   "outputs": [],
   "source": []
  }
 ],
 "metadata": {
  "kernelspec": {
   "display_name": "Python 3",
   "language": "python",
   "name": "python3"
  },
  "language_info": {
   "codemirror_mode": {
    "name": "ipython",
    "version": 3
   },
   "file_extension": ".py",
   "mimetype": "text/x-python",
   "name": "python",
   "nbconvert_exporter": "python",
   "pygments_lexer": "ipython3",
   "version": "3.6.9"
  }
 },
 "nbformat": 4,
 "nbformat_minor": 4
}
