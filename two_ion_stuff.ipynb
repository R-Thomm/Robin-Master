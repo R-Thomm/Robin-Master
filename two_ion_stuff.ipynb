{
 "cells": [
  {
   "cell_type": "markdown",
   "metadata": {},
   "source": [
    "# import stuff"
   ]
  },
  {
   "cell_type": "code",
   "execution_count": 1,
   "metadata": {},
   "outputs": [
    {
     "name": "stdout",
     "output_type": "stream",
     "text": [
      "python version: 3.6.9\n",
      "number of CPU's: 8\n"
     ]
    }
   ],
   "source": [
    "%load_ext autoreload\n",
    "%autoreload 2\n",
    "\n",
    "# import python stuff\n",
    "import matplotlib.pyplot as plt\n",
    "import numpy as np\n",
    "\n",
    "import scipy\n",
    "import scipy.special as spe\n",
    "from scipy import optimize\n",
    "from scipy.stats import poisson\n",
    "from qutip import *\n",
    "import iminuit\n",
    "import time\n",
    "import multiprocessing as mp\n",
    "from platform import python_version\n",
    "import os\n",
    "\n",
    "# import my functions\n",
    "from functionsSqueeze import *\n",
    "from functions_SpinPhonon import *\n",
    "\n",
    "# import existing Paula funcitons\n",
    "from PyModules.analyse_eios import eios_sb\n",
    "from PyModules.analyse_eios import eios_analyse\n",
    "from PyModules.analyse_eios import eios_data\n",
    "\n",
    "print(\"python version:\", python_version())\n",
    "print(\"number of CPU's:\", mp.cpu_count())"
   ]
  },
  {
   "cell_type": "markdown",
   "metadata": {},
   "source": [
    "# Poisson Fits for two ions"
   ]
  },
  {
   "cell_type": "markdown",
   "metadata": {},
   "source": [
    "## define poisson fit functions (equivalent funcitons to the ones for one ion in eios_analyse)"
   ]
  },
  {
   "cell_type": "code",
   "execution_count": 216,
   "metadata": {},
   "outputs": [],
   "source": [
    "# make a function to generate a random number of a two-poissonian distribution\n",
    "def rand_4Poisson(mu_U, mu_D, alpha=0, P_D1=0.5, P_D2=0.5):\n",
    "    rd1 = np.random.rand()\n",
    "    rd2 = np.random.rand()\n",
    "    \n",
    "    if P_D1 < rd1 and P_D2 < rd2:\n",
    "        # poisson for high counts\n",
    "        return (np.random.poisson(mu_U) + np.random.poisson(mu_U))\n",
    "    \n",
    "    elif P_D1 > rd1 and P_D2 > rd2:\n",
    "        # poisson for low counts\n",
    "        return (np.random.poisson(mu_D - 0.5*alpha) + np.random.poisson(mu_D + 0.5*alpha))\n",
    "    \n",
    "    elif P_D1 < rd1 and P_D2 > rd2:\n",
    "        # poisson for ion 1 up, ion 2 down\n",
    "        return (np.random.poisson(mu_U) + np.random.poisson(mu_D + 0.5*alpha))\n",
    "    \n",
    "    elif P_D1 > rd1 and P_D2 < rd2:\n",
    "        # poisson for ion 1 down, ion 2 up\n",
    "        return (np.random.poisson(mu_D - 0.5*alpha) + np.random.poisson(mu_U))   "
   ]
  },
  {
   "cell_type": "code",
   "execution_count": 217,
   "metadata": {},
   "outputs": [],
   "source": [
    "def mLL_2I(data, mu_dd, mu_du, mu_uu, p_dd, p_du, p_uu):\n",
    "    \"\"\"returns the negative log likelihood functin of a two-poissonian distribution with:\n",
    "        means mu1 and mu2\n",
    "        weights (1-p_up) and fit_p_up\n",
    "        data: an array filled with random numbers from the two-poissonian distribution\n",
    "    \"\"\"\n",
    "    \n",
    "    # make sure that p_up \\in [0, 1]\n",
    "#     if not (0<= p_up <= 1):\n",
    "#         p_up = np.max([p_up, 0])\n",
    "#         p_up = np.min([p_up, 1])\n",
    "\n",
    "    return -np.sum(np.log(p_dd/(p_dd+p_du+p_uu)*poisson.pmf(data, mu_dd) + p_du/(p_dd+p_du+p_uu)*poisson.pmf(data, mu_du)\n",
    "                         + p_uu/(p_dd+p_du+p_uu)*poisson.pmf(data, mu_uu)))"
   ]
  },
  {
   "cell_type": "code",
   "execution_count": 218,
   "metadata": {},
   "outputs": [],
   "source": [
    "def fit_poisson_hist_2I(hist, lowcount=1., highcount=16.):\n",
    "    \"\"\"fits a sum of two two-poissonian distributions (see mLL) to a sample hist\n",
    "    \"\"\"\n",
    "    # if hist is a list of histograms, merge them into one hist\n",
    "    if len(np.shape(hist)) > 1:\n",
    "        hist = np.append([],hist)\n",
    "\n",
    "    def func(mu_dd, mu_du, mu_uu, p_dd, p_du, p_uu):\n",
    "        return mLL_2I(np.array(hist), mu_dd, mu_du, mu_uu, p_dd, p_du, p_uu)\n",
    "\n",
    "    m = iminuit.Minuit(func, mu_dd = highcount, mu_du = 0.5*highcount, mu_uu = lowcount, p_dd = 0.3, p_du = 0.4, p_uu = 0.3,\n",
    "                # initial stepsize\n",
    "               error_mu_dd = 1., error_mu_du = 0.5, error_mu_uu = 0.1, error_p_dd = 0.05, error_p_du = 0.05, error_p_uu = 0.05,\n",
    "               errordef = 0.5,\n",
    "                # bounds\n",
    "               limit_mu_dd = (0., 50), limit_mu_du = (0., 50), limit_mu_uu = (0., 50.), limit_p_dd=(0.,1.), limit_p_du=(0.,1.), limit_p_uu=(0.,1.))\n",
    "    m.migrad()\n",
    "    \n",
    "    # make sure the probabilities add up to 1\n",
    "    norm = m.values[3] + m.values[4] + m.values[5]\n",
    "    \n",
    "    res = {\n",
    "        'x': [m.values[0], m.values[1], m.values[2], m.values[3]/norm, m.values[4]/norm, m.values[5]/norm],\n",
    "        'x_err': [m.errors[0], m.errors[1], m.errors[2], m.errors[3]/norm, m.errors[4]/norm, m.errors[5]/norm]\n",
    "    }\n",
    "    return res"
   ]
  },
  {
   "cell_type": "code",
   "execution_count": 219,
   "metadata": {},
   "outputs": [],
   "source": [
    "def helper_fit_hist_2I(hist, fit_mu_dd, fit_mu_du, fit_mu_uu):\n",
    "#     \"\"\"fits the weights of a two-poissonian distribution (with fixed means fit_mu1, fit_mu2) to the sample given in hists\n",
    "#     returns the weight and its error\n",
    "#     \"\"\"\n",
    "    if len(hist) == 0: # make sure the hist is not empty\n",
    "        raise ValueError('empty histogram')\n",
    "    else:\n",
    "        # make a helper function to throw into minuit\n",
    "        func = lambda p_dd, p_du, p_uu: mLL_2I(np.array(hist), fit_mu_dd, fit_mu_du, fit_mu_uu, p_dd, p_du, p_uu)\n",
    "        # make a minuit object\n",
    "        m = iminuit.Minuit(func, p_dd = 0.3, p_du = 0.4, p_uu = 0.3,\n",
    "                           error_p_dd = 0.05, error_p_du = 0.05, error_p_uu = 0.05, errordef = 0.5,\n",
    "                           limit_p_dd=(0.,1.), limit_p_du=(0.,1.), limit_p_uu=(0.,1.))\n",
    "        # minimize the funciton\n",
    "        m.migrad()\n",
    "        # return the parameter and error (not sure about second summand, taken from original function in eios)\n",
    "        \n",
    "        # make sure the probabilities add up to 1\n",
    "        norm = m.values[0] + m.values[1] + m.values[2]\n",
    "        norm_err = np.sqrt(m.errors[0]**2 + m.errors[1]**2 + m.errors[2]**2)\n",
    "        \n",
    "#         err0 = np.sqrt(m.errors[0]**2 + m.values[0]**2/norm**2 * norm_err**2)/norm\n",
    "#         err1 = np.sqrt(m.errors[1]**2 + m.values[1]**2/norm**2 * norm_err**2)/norm\n",
    "#         err2 = np.sqrt(m.errors[2]**2 + m.values[2]**2/norm**2 * norm_err**2)/norm\n",
    "        err0 = m.errors[0]/norm\n",
    "        err1 = m.errors[1]/norm\n",
    "        err2 = m.errors[2]/norm\n",
    "        \n",
    "        err0 = np.min([err0, np.sqrt(err1**2+err2**2)])\n",
    "        err1 = np.min([err1, np.sqrt(err2**2+err0**2)])\n",
    "        err2 = np.min([err2, np.sqrt(err0**2+err1**2)])\n",
    "        \n",
    "        return m.values[0]/norm, m.values[1]/norm, m.values[2]/norm, err0, err1, err2\n",
    "\n",
    "# my function for all hist fits (needs pre fit), from rob\n",
    "def fit_hist_2I(hists, pre_fit, parallel = True):\n",
    "    t1 = time.time()\n",
    "#     \"\"\"fits the weights of a two-poissonian distribution to the samples given in hists\n",
    "#     parameters:\n",
    "#         hists: array of arrays, each one a sample of a two-poissonian distribution\n",
    "#             should a sample be empty, the corresponding y, y_err are set to nan\n",
    "#         pre_fit: fit result from a fit on all histograms in hists combined\n",
    "#             (the expectation values mu1, mu2 are taken and fixed in the fits done here)\n",
    "#             (scipy optimize result, from fit_poisson_hist or fit_poisson_hist_rob)\n",
    "#         parallel: bool, default False, if parallel computing should be used (better performance, if the mp module works)\n",
    "#         remove_nan: bool, default True, sets if nans (from empty lists in hists) should be removed in the output\n",
    "#     returns y, y_err\n",
    "#         y: a list of weights for the two-poissonian distribution (weight corresponding to mu2, mu2 > mu1)\n",
    "#         y_err: errors of the weights\n",
    "#     \"\"\"\n",
    "    \n",
    "    # take variables from prefit\n",
    "    fit_mu_1, fit_mu_2, fit_mu_3,_,_,_ = pre_fit['x']\n",
    "    [fit_mu_uu, fit_mu_du, fit_mu_dd] = np.sort([fit_mu_1, fit_mu_2, fit_mu_3])\n",
    "#     print(fit_mu_uu, fit_mu_du, fit_mu_dd)\n",
    "\n",
    "    if parallel:\n",
    "        args = [(hist, fit_mu_dd, fit_mu_du, fit_mu_uu) for hist in hists]\n",
    "        pool = mp.Pool(mp.cpu_count())\n",
    "        res_y = pool.starmap(helper_fit_hist_2I, args)\n",
    "        time.sleep(0.01)\n",
    "        pool.close()\n",
    "    else:\n",
    "        res_y = []\n",
    "        for hist in hists:\n",
    "            res_y.append(helper_fit_hist_2I(hist, fit_mu_dd, fit_mu_du, fit_mu_uu))\n",
    "\n",
    "    # unpack results\n",
    "    y_dd, y_du, y_uu = [i[0] for i in res_y], [i[1] for i in res_y], [i[2] for i in res_y]\n",
    "    y_err_dd, y_err_du, y_err_uu = [i[3] for i in res_y], [i[4] for i in res_y], [i[5] for i in res_y]\n",
    "\n",
    "    # print(\"fit hists:\", np.round(time.time()-t1, 3))\n",
    "    return y_dd, y_du, y_uu, y_err_dd, y_err_du, y_err_uu"
   ]
  },
  {
   "cell_type": "code",
   "execution_count": 220,
   "metadata": {},
   "outputs": [],
   "source": [
    "def plot_hist_res_2I(hist, res):\n",
    "    xx = np.linspace(0, 30, 31)\n",
    "    mu_dd, mu_du, mu_uu = res['x'][0], res['x'][1], res['x'][2]\n",
    "    p_dd, p_du, p_uu = res['x'][3], res['x'][4], res['x'][5]\n",
    "    \n",
    "    y = p_dd*poisson.pmf(xx, mu_dd) + p_du*poisson.pmf(xx, mu_du) + p_uu*poisson.pmf(xx, mu_uu)\n",
    "#     y = [(res['x'][2]+res['x'][3])*poisson.pmf(i, res['x'][0]) + (2-res['x'][2]-res['x'][3])*poisson.pmf(i, res['x'][1]) for i in xx]\n",
    "    \n",
    "    plt.hist(hist, bins=range(30), rwidth=0.8, align='left', density=True)\n",
    "    plt.plot(xx, y/np.sum(y))\n",
    "    plt.show()"
   ]
  },
  {
   "cell_type": "markdown",
   "metadata": {},
   "source": [
    "## do the fitting"
   ]
  },
  {
   "cell_type": "code",
   "execution_count": 227,
   "metadata": {},
   "outputs": [
    {
     "data": {
      "image/png": "[encoded data removed]",
      "text/plain": [
       "<Figure size 432x288 with 1 Axes>"
      ]
     },
     "metadata": {
      "needs_background": "light"
     },
     "output_type": "display_data"
    }
   ],
   "source": [
    "# check the function for my photon counts simulation funcion\n",
    "\n",
    "hist = [rand_4Poisson(0.3, 8, 2, 0.5, 0.5) for i in range(1000)]\n",
    "\n",
    "plt.hist(hist, bins=range(30), rwidth=0.8, align='left', density=True)\n",
    "plt.show()"
   ]
  },
  {
   "cell_type": "code",
   "execution_count": 266,
   "metadata": {},
   "outputs": [
    {
     "data": {
      "image/png": "[encoded data removed]",
      "text/plain": [
       "<Figure size 432x288 with 1 Axes>"
      ]
     },
     "metadata": {
      "needs_background": "light"
     },
     "output_type": "display_data"
    }
   ],
   "source": [
    "times = np.linspace(-0, 5, 100)\n",
    "\n",
    "# define a simple ramp funciton\n",
    "def rmp(t):\n",
    "    if t <= 0:\n",
    "        return 0\n",
    "    elif 0<t<=1:\n",
    "        return t\n",
    "    else:\n",
    "        return 1\n",
    "\n",
    "Ps1 = np.array([rmp(t-0.5)-rmp(t-3.5) for t in times])\n",
    "Ps2 = np.array([rmp(t - 2)-rmp(t-3.5) for t in times])\n",
    "\n",
    "plt.plot(times, Ps1)\n",
    "plt.plot(times, Ps2)\n",
    "plt.show()\n",
    "\n",
    "# simulate data\n",
    "hists = []\n",
    "for i, t in enumerate(times):\n",
    "    hists.append([rand_4Poisson(0.5, 8, 2, Ps1[i], Ps2[i]) for j in range(500)])"
   ]
  },
  {
   "cell_type": "code",
   "execution_count": 267,
   "metadata": {},
   "outputs": [
    {
     "name": "stdout",
     "output_type": "stream",
     "text": [
      "processing time: 2.0254\n"
     ]
    }
   ],
   "source": [
    "# do the prefit to determine the three count levels (with all histograms)\n",
    "\n",
    "t1 = time.time()\n",
    "prefit = fit_poisson_hist_2I(hists, 0.5, 10)\n",
    "print(\"processing time:\", np.round( time.time()-t1, 4))"
   ]
  },
  {
   "cell_type": "code",
   "execution_count": 273,
   "metadata": {},
   "outputs": [
    {
     "name": "stdout",
     "output_type": "stream",
     "text": [
      "processing time: 0.5173\n"
     ]
    }
   ],
   "source": [
    "# do the fits to determine the population of (down, down) and (down, up) = (up, down) and (up, up)\n",
    "\n",
    "t1 = time.time()\n",
    "y_dd, y_du, y_uu, y_err_dd, y_err_du, y_err_uu = fit_hist_2I(hists, prefit, parallel = True)\n",
    "print(\"processing time:\", np.round( time.time()-t1, 4))"
   ]
  },
  {
   "cell_type": "code",
   "execution_count": 271,
   "metadata": {},
   "outputs": [
    {
     "data": {
      "image/png": "[encoded data removed]",
      "text/plain": [
       "<Figure size 432x288 with 1 Axes>"
      ]
     },
     "metadata": {
      "needs_background": "light"
     },
     "output_type": "display_data"
    }
   ],
   "source": [
    "# plt.errorbar(times, y_dd, y_err_dd, fmt = 'ro', label='P(down, down)')\n",
    "# plt.errorbar(times, y_du, y_err_du, fmt = 'bo', label='P(down, down)')\n",
    "# plt.errorbar(times, y_uu, y_err_uu, fmt = 'yo', label='P(down, down)')\n",
    "\n",
    "# fit results\n",
    "plt.plot(times, y_dd, 'ro', label='P(down, down)')\n",
    "plt.plot(times, y_du, 'bo', label='P(down, up)')\n",
    "plt.plot(times, y_uu, 'yo', label='P(up, up)')\n",
    "\n",
    "# expectation\n",
    "plt.plot(times, Ps1*Ps2, 'r-') # both down\n",
    "plt.plot(times, (1-Ps1)*Ps2 + Ps1*(1-Ps2), 'b-') # one down one up\n",
    "plt.plot(times, (1-Ps1)*(1-Ps2), 'y-') # both up\n",
    "\n",
    "plt.legend()\n",
    "plt.show()"
   ]
  },
  {
   "cell_type": "markdown",
   "metadata": {},
   "source": [
    "This plot shows the results of the fit routine to get the population levels P(down, down), P(up, up) and P(down, up)=P(up, down).<br/>\n",
    "The dots show the fitted results, and the lines the expectation (e.g. the initial values for the data simulation). It was assumed that the simulated histogram can be fitted on a three-poissonian-distribution, but the data was simulated using a four-poissonian-distribution, with expectation values for the (down, up) state slightly different to the expectation value for the (up, down) state."
   ]
  },
  {
   "cell_type": "code",
   "execution_count": 270,
   "metadata": {},
   "outputs": [
    {
     "data": {
      "image/png": "[encoded data removed]",
      "text/plain": [
       "<Figure size 432x288 with 1 Axes>"
      ]
     },
     "metadata": {
      "needs_background": "light"
     },
     "output_type": "display_data"
    }
   ],
   "source": [
    "# plot one histogram with the fit\n",
    "ii = 76\n",
    "sort_mu = np.sort(prefit['x'][:3])\n",
    "res = {'x': [sort_mu[2], sort_mu[1], sort_mu[0], y_dd[ii], y_du[ii], y_uu[ii]]}\n",
    "plot_hist_res_2I(hists[ii], res)"
   ]
  },
  {
   "cell_type": "code",
   "execution_count": 77,
   "metadata": {},
   "outputs": [
    {
     "data": {
      "text/plain": [
       "[8.256920719449452, 15.677566315867645, 0.6405757276684654]"
      ]
     },
     "execution_count": 77,
     "metadata": {},
     "output_type": "execute_result"
    }
   ],
   "source": [
    "prefit['x'][:3]"
   ]
  },
  {
   "cell_type": "code",
   "execution_count": null,
   "metadata": {},
   "outputs": [],
   "source": []
  }
 ],
 "metadata": {
  "kernelspec": {
   "display_name": "Python 3",
   "language": "python",
   "name": "python3"
  },
  "language_info": {
   "codemirror_mode": {
    "name": "ipython",
    "version": 3
   },
   "file_extension": ".py",
   "mimetype": "text/x-python",
   "name": "python",
   "nbconvert_exporter": "python",
   "pygments_lexer": "ipython3",
   "version": "3.6.9"
  }
 },
 "nbformat": 4,
 "nbformat_minor": 4
}
