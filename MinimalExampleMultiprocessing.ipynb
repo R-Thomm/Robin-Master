{
 "cells": [
  {
   "cell_type": "code",
   "execution_count": 1,
   "metadata": {},
   "outputs": [
    {
     "name": "stdout",
     "output_type": "stream",
     "text": [
      "number of CPU's: 8\n"
     ]
    }
   ],
   "source": [
    "import numpy as np\n",
    "import multiprocessing as mp\n",
    "import time\n",
    "\n",
    "print(\"number of CPU's:\", mp.cpu_count())\n",
    "\n",
    "def func(x):\n",
    "    return(x**x)"
   ]
  },
  {
   "cell_type": "code",
   "execution_count": null,
   "metadata": {},
   "outputs": [],
   "source": []
  },
  {
   "cell_type": "code",
   "execution_count": 26,
   "metadata": {},
   "outputs": [
    {
     "name": "stdout",
     "output_type": "stream",
     "text": [
      "[1, 4, 27, 256, 3125, 46656, 823543, 16777216, 387420489]\n",
      "processing time: 0.123\n"
     ]
    }
   ],
   "source": [
    "t1 = time.time()\n",
    "if __name__ == \"__main__\":\n",
    "    pool = mp.Pool(8)\n",
    "    res = pool.map(func, range(1000))\n",
    "\n",
    "time.sleep(0.1)\n",
    "print(res[1:10])\n",
    "print(\"processing time:\", np.round( time.time()-t1, 4))"
   ]
  },
  {
   "cell_type": "code",
   "execution_count": 44,
   "metadata": {},
   "outputs": [
    {
     "name": "stdout",
     "output_type": "stream",
     "text": [
      "[4, 4, 4, 4, 4, 4, 4, 4, 4]\n",
      "processing time: 0.0853\n"
     ]
    }
   ],
   "source": [
    "from joblib import Parallel, delayed\n",
    "\n",
    "t1 = time.time()\n",
    "res = Parallel(n_jobs=8)(delayed(func)(2) for i in range(1000))\n",
    "print(res[1:10])\n",
    "print(\"processing time:\", np.round( time.time()-t1, 4))"
   ]
  },
  {
   "cell_type": "code",
   "execution_count": null,
   "metadata": {},
   "outputs": [],
   "source": []
  }
 ],
 "metadata": {
  "kernelspec": {
   "display_name": "Python 3",
   "language": "python",
   "name": "python3"
  },
  "language_info": {
   "codemirror_mode": {
    "name": "ipython",
    "version": 3
   },
   "file_extension": ".py",
   "mimetype": "text/x-python",
   "name": "python",
   "nbconvert_exporter": "python",
   "pygments_lexer": "ipython3",
   "version": "3.6.9"
  }
 },
 "nbformat": 4,
 "nbformat_minor": 4
}
